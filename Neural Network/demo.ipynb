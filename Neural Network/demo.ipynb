{
 "cells": [
  {
   "cell_type": "code",
   "execution_count": 1,
   "metadata": {},
   "outputs": [],
   "source": [
    "import numpy as np\n",
    "import matplotlib.pyplot as plt\n",
    "import os\n",
    "import csv\n",
    "import struct\n",
    "from typing import List\n",
    "\n",
    "from torch.utils.data import Dataset,DataLoader\n",
    "import torch\n",
    "import torch.nn as nn\n",
    "import torch.nn.functional as F\n",
    "import torch.optim as optim\n",
    "from torch.utils.data import Dataset,DataLoader\n",
    "\n",
    "from sklearn.model_selection import train_test_split\n",
    "from sklearn.utils import shuffle"
   ]
  },
  {
   "cell_type": "markdown",
   "metadata": {},
   "source": [
    "使用`torch`中`Dataset`类分别定义Iris数据类和MNIST数据类"
   ]
  },
  {
   "cell_type": "code",
   "execution_count": 2,
   "metadata": {},
   "outputs": [],
   "source": [
    "class Iris(Dataset):\n",
    "    def __init__(self, root='./iris.csv', split_ratio=0.4):\n",
    "        self.name = {'setosa':0, 'versicolor':1, 'virginica':2}\n",
    "        super(Iris,self).__init__()\n",
    "        self.root = root\n",
    "        self.x_train, self.y_train,self.x_test, self.y_test = self._load_data(ratio=split_ratio)\n",
    "\n",
    "    def _load_data(self, ratio=0.4):\n",
    "        if not os.path.isfile(self.root):\n",
    "            raise FileNotFoundError\n",
    "        x,y = [],[]\n",
    "        with open(self.root,'r') as f:\n",
    "            reader = csv.reader(f)\n",
    "            ## 跳过首行\n",
    "            reader.__next__()\n",
    "            for row in reader:\n",
    "                x.append(list(map(float,row[1:-1])))\n",
    "                y.append(float(self.name[row[-1]]))\n",
    "        x = np.array(x).reshape(150,4)\n",
    "        y = np.array(y).reshape(150,1)\n",
    "\n",
    "        x1_train, x1_test, y1_train, y1_test = train_test_split(x[:50], y[:50], test_size=ratio)\n",
    "        x2_train, x2_test, y2_train, y2_test = train_test_split(x[50:100], y[50:100], test_size=ratio)\n",
    "        x3_train, x3_test, y3_train, y3_test = train_test_split(x[100:150], y[100:150], test_size=ratio)\n",
    "\n",
    "        x_train = np.concatenate((x1_train,x2_train,x3_train), axis=0)\n",
    "        y_train = np.concatenate((y1_train,y2_train,y3_train), axis=0)\n",
    "        x_test = np.concatenate((x1_test,x2_test,x3_test), axis=0)\n",
    "        y_test = np.concatenate((y1_test,y2_test,y3_test), axis=0)\n",
    "\n",
    "        return x_train, y_train.astype(int), x_test, y_test.astype(int)\n",
    "\n",
    "    def __len__(self):\n",
    "        return self.x_train.shape[0]\n",
    "\n",
    "    def __getitem__(self, index: int):\n",
    "        return self.x_train[index], self.y_train[index]"
   ]
  },
  {
   "cell_type": "code",
   "execution_count": 3,
   "metadata": {},
   "outputs": [],
   "source": [
    "class MNIST(object):\n",
    "\n",
    "    def __init__(self, root='./MNIST'):\n",
    "        img_train_path = os.path.join(root, 'train-images.idx3-ubyte')\n",
    "        label_train_path = os.path.join(root, 'train-labels.idx1-ubyte')\n",
    "        img_test_path = os.path.join(root, 'test-images.idx3-ubyte')\n",
    "        label_test_path = os.path.join(root, 'test-labels.idx1-ubyte')\n",
    "        self.x_train = self._get_img(img_train_path)\n",
    "        self.y_train = self._get_label(label_train_path)\n",
    "        self.x_test = self._get_img(img_test_path)\n",
    "        self.y_test = self._get_label(label_test_path)\n",
    "        self.standardlize()\n",
    "\n",
    "    # 读取图片\n",
    "    def _get_img(self, path):\n",
    "        with open(path,'rb') as fi:\n",
    "            ImgFile = fi.read()\n",
    "            head = struct.unpack_from('>IIII', ImgFile, 0)\n",
    "            offset = struct.calcsize('>IIII')\n",
    "            ImgNum, width, height = head[1], head[2], head[3]\n",
    "            pixel = height*width\n",
    "            bits = ImgNum * width * height\n",
    "            bitsString = '>' + str(bits) + 'B'\n",
    "            images = struct.unpack_from(bitsString, ImgFile, offset)\n",
    "            images = np.reshape(images,[ImgNum,pixel])\n",
    "        return images.T\n",
    "\n",
    "    # 读取标签\n",
    "    def _get_label(self, path):\n",
    "        with open(path,'rb') as fl:\n",
    "            LableFile = fl.read()\n",
    "            head = struct.unpack_from('>II', LableFile, 0)\n",
    "            labelNum = head[1]\n",
    "            offset = struct.calcsize('>II')\n",
    "            numString = '>' + str(labelNum) + \"B\"\n",
    "            labels = struct.unpack_from(numString, LableFile, offset)\n",
    "            labels = np.reshape(labels, [labelNum])\n",
    "        return labels.reshape(-1,1)\n",
    "\n",
    "    # 数据标准化\n",
    "    def normalize(self):\n",
    "        min = np.min(self.x_train, axis=0).reshape(1,-1)\n",
    "        max = np.max(self.x_train, axis=0).reshape(1,-1)\n",
    "        self.x_train = (self.x_train - min)/(max - min)\n",
    "        min = np.min(self.x_test, axis=0).reshape(1,-1)\n",
    "        max = np.max(self.x_test, axis=0).reshape(1,-1)\n",
    "        self.x_test = (self.x_test - min)/(max - min)\n",
    "\n",
    "    # 数据归一化\n",
    "    def standardlize(self):\n",
    "        mean = np.mean(self.x_train, axis=0).reshape(1,-1)\n",
    "        var = np.var(self.x_train, axis=0).reshape(1,-1)\n",
    "        self.x_train = (self.x_train-mean)/np.sqrt(var)\n",
    "        mean = np.mean(self.x_test, axis=0).reshape(1,-1)\n",
    "        var = np.var(self.x_test, axis=0).reshape(1,-1)\n",
    "        self.x_test = (self.x_test-mean)/np.sqrt(var)"
   ]
  },
  {
   "cell_type": "markdown",
   "metadata": {},
   "source": [
    "**定义全连接神经网络和Lenet模型**"
   ]
  },
  {
   "cell_type": "markdown",
   "metadata": {},
   "source": [
    "参数初始化"
   ]
  },
  {
   "cell_type": "code",
   "execution_count": 4,
   "metadata": {},
   "outputs": [],
   "source": [
    "def init_weight(model):\n",
    "    for layer in model.modules():\n",
    "        if type(layer) in [nn.Linear, nn.Conv2d]:\n",
    "            nn.init.xavier_normal_(layer.weight)"
   ]
  },
  {
   "cell_type": "markdown",
   "metadata": {},
   "source": [
    "用于分类Iris数据集的全连接神经网络"
   ]
  },
  {
   "cell_type": "code",
   "execution_count": 5,
   "metadata": {},
   "outputs": [],
   "source": [
    "class NeuralNetwork(nn.Module):\n",
    "    def __init__(self, layers:List, activation, bias=True):\n",
    "        super(NeuralNetwork,self).__init__()\n",
    "\n",
    "        architecture = []\n",
    "        for i in range(1, len(layers)):\n",
    "            architecture.append(nn.Linear(layers[i-1],layers[i],bias=bias))\n",
    "            ## 最后一层不加激活函数\n",
    "            if i < len(layers)-1:\n",
    "                if activation == 'relu':\n",
    "                    architecture.append(nn.ReLU())\n",
    "                elif activation == 'sigmoid':\n",
    "                    architecture.append(nn.Sigmoid())\n",
    "                elif activation == 'tanh':\n",
    "                    architecture.append(nn.Tanh())\n",
    "                else:\n",
    "                    raise\n",
    "\n",
    "        self.fc = nn.Sequential(*architecture)\n",
    "        self.softmax = nn.Softmax(dim=-1)\n",
    "\n",
    "    def forward(self, x):\n",
    "        x = self.fc(x)\n",
    "        yhat = self.softmax(x)\n",
    "\n",
    "        return yhat"
   ]
  },
  {
   "cell_type": "markdown",
   "metadata": {},
   "source": [
    "用于分类mnist数据集的Lenet"
   ]
  },
  {
   "cell_type": "code",
   "execution_count": 6,
   "metadata": {},
   "outputs": [],
   "source": [
    "class LeNet(nn.Module):\n",
    "    def __init__(self):\n",
    "        super(LeNet,self).__init__()\n",
    "        self.conv1 = nn.Conv2d(in_channels=1, out_channels=6, kernel_size=5, stride=1, padding=2)\n",
    "        self.conv2 = nn.Conv2d(in_channels=6, out_channels=16, kernel_size=5, stride=1, padding=0)\n",
    "        \n",
    "        self.avepool1 = nn.AvgPool2d(kernel_size=2, stride=2)\n",
    "        self.avepool2 = nn.AvgPool2d(kernel_size=2, stride=2)\n",
    "\n",
    "        self.fc1 = nn.Linear(400,120)\n",
    "        self.fc2 = nn.Linear(120,84)\n",
    "        self.fc3 = nn.Linear(84,10)\n",
    "        \n",
    "        self.bn1 = nn.BatchNorm2d(6)\n",
    "        self.bn2 = nn.BatchNorm2d(16)\n",
    "        self.bn3 = nn.BatchNorm1d(120)\n",
    "        self.bn4 = nn.BatchNorm1d(84)\n",
    "\n",
    "\n",
    "    def forward(self, x, batch_norm=False):\n",
    "        x = F.sigmoid(self.conv1(x))\n",
    "        if batch_norm:\n",
    "            x = self.bn1(x)\n",
    "        x = self.avepool1(x)\n",
    "\n",
    "        x = F.sigmoid(self.conv2(x))\n",
    "        if batch_norm:\n",
    "            x = self.bn2(x)\n",
    "        x = self.avepool2(x)\n",
    "\n",
    "        x = x.view(-1,400)\n",
    "        x = F.sigmoid(self.fc1(x))\n",
    "        if batch_norm:\n",
    "            x = self.bn3(x)\n",
    "        x = F.sigmoid(self.fc2(x))\n",
    "        if batch_norm:\n",
    "            x = self.bn4(x)\n",
    "\n",
    "        x = F.softmax(self.fc3(x), dim=-1)\n",
    "\n",
    "        return x"
   ]
  },
  {
   "cell_type": "markdown",
   "metadata": {},
   "source": [
    "**模型训练**"
   ]
  },
  {
   "cell_type": "markdown",
   "metadata": {},
   "source": [
    "训练Iris数据集函数"
   ]
  },
  {
   "cell_type": "code",
   "execution_count": 7,
   "metadata": {},
   "outputs": [],
   "source": [
    "def train_iris(model:nn.Module, dataset:Dataset, optimizer:optim.Optimizer, device,\n",
    "                    epoch, batchsize, eval=True, log=True):\n",
    "\n",
    "    dataloder = DataLoader(dataset, batch_size=batchsize, shuffle=True)\n",
    "    x_test, y_test = dataset.x_test, dataset.y_test\n",
    "\n",
    "    acc_test = []\n",
    "    acc_train = []\n",
    "    losses = []\n",
    "\n",
    "    for n_epoch in range(epoch):\n",
    "\n",
    "        correct_train = torch.zeros(1).squeeze()\n",
    "        loss_per_epoch = torch.zeros(1).squeeze()\n",
    "\n",
    "        for i,(x,y) in enumerate(dataloder):\n",
    "            x = x.float().to(device)\n",
    "            y = y.squeeze().long().to(device)\n",
    "            yhat = model(x)\n",
    "            loss_train = F.cross_entropy(yhat, y)\n",
    "            loss_per_epoch += loss_train.cpu()\n",
    "            loss_train.backward()\n",
    "            optimizer.step()\n",
    "\n",
    "            prediction = torch.argmax(yhat, dim=-1)\n",
    "            correct_train += (prediction == y).sum().float().cpu()\n",
    "            \n",
    "        loss_per_epoch = loss_per_epoch/ (i + 1)\n",
    "        accuracy_train = correct_train / len(dataset)\n",
    "\n",
    "        losses.append(loss_per_epoch)\n",
    "        acc_train.append(accuracy_train)\n",
    "\n",
    "        if eval:\n",
    "            with torch.no_grad():\n",
    "                x = torch.from_numpy(x_test).float().to(device)\n",
    "                y = torch.from_numpy(y_test).long().squeeze().to(device)\n",
    "\n",
    "                yhat = model(x)\n",
    "                prediction = torch.argmax(yhat, dim=-1)\n",
    "                correct_test = (prediction == y).sum().float().cpu()\n",
    "                \n",
    "                accuracy_test = correct_test / len(y)\n",
    "                acc_test.append(accuracy_test)\n",
    "\n",
    "        if log:\n",
    "            print('epoch: %i/%i\\t training loss %.2f\\t training_acc %.2f\\t val_acc %.2f'%\n",
    "                        (n_epoch+1, epoch, loss_per_epoch, accuracy_train, accuracy_test))\n",
    "        \n",
    "    return model, losses, acc_train, acc_test"
   ]
  },
  {
   "cell_type": "markdown",
   "metadata": {},
   "source": [
    "训练LeNet函数"
   ]
  },
  {
   "cell_type": "code",
   "execution_count": 8,
   "metadata": {},
   "outputs": [],
   "source": [
    "def train_mnist(model:nn.Module, dataset:Dataset, optimizer:optim.Optimizer, device,\n",
    "                    epoch, batchsize, norm=True, bacthnorm=True, eval=True, log=True):\n",
    "\n",
    "    if norm:\n",
    "        dataset.normalize()\n",
    "\n",
    "    dataloder = DataLoader(dataset, batch_size=batchsize, shuffle=True)\n",
    "    x_test, y_test = dataset.x_test, dataset.y_test\n",
    "\n",
    "    acc_test = []\n",
    "    acc_train = []\n",
    "    losses = []\n",
    "\n",
    "    for n_epoch in range(epoch):\n",
    "\n",
    "        correct_train = torch.zeros(1).squeeze()\n",
    "        loss_per_epoch = torch.zeros(1).squeeze()\n",
    "\n",
    "        for i,(x,y) in enumerate(dataloder):\n",
    "            x = x.float().view(-1, 1, 28, 28).to(device)\n",
    "            y = y.squeeze().long().to(device)\n",
    "            yhat = model(x, batch_norm=bacthnorm)\n",
    "            loss_train = F.cross_entropy(yhat, y)\n",
    "            loss_per_epoch += loss_train.cpu()\n",
    "            loss_train.backward()\n",
    "            optimizer.step()\n",
    "\n",
    "            prediction = torch.argmax(yhat, dim=-1)\n",
    "            correct_train += (prediction == y).sum().float().cpu()\n",
    "            \n",
    "        loss_per_epoch = loss_per_epoch/ (i + 1)\n",
    "        accuracy_train = correct_train / len(dataset)\n",
    "\n",
    "        losses.append(loss_per_epoch)\n",
    "        acc_train.append(accuracy_train)\n",
    "\n",
    "        if eval:\n",
    "            with torch.no_grad():\n",
    "                x = torch.from_numpy(x_test).float().view(-1, 1, 28, 28).to(device)\n",
    "                y = torch.from_numpy(y_test).long().squeeze().to(device)\n",
    "\n",
    "                yhat = model(x, batch_norm=bacthnorm)\n",
    "                prediction = torch.argmax(yhat, dim=-1)\n",
    "                correct_test = (prediction == y).sum().float().cpu()\n",
    "                \n",
    "                accuracy_test = correct_test / len(y)\n",
    "                acc_test.append(accuracy_test)\n",
    "\n",
    "        if log:\n",
    "            print('epoch: %i/%i\\t training loss %.2f\\t training_acc %.2f\\t val_acc %.2f'%\n",
    "                        (n_epoch+1, epoch, loss_per_epoch, accuracy_train, accuracy_test))\n",
    "    \n",
    "    return model, losses, acc_train, acc_test"
   ]
  },
  {
   "cell_type": "markdown",
   "metadata": {},
   "source": [
    "检查GPU状态，由于笔者电脑配置有gpu且时间有限，只写了gpu版本"
   ]
  },
  {
   "cell_type": "code",
   "execution_count": 9,
   "metadata": {},
   "outputs": [
    {
     "name": "stdout",
     "output_type": "stream",
     "text": [
      "device: cuda\n"
     ]
    }
   ],
   "source": [
    "device = torch.device('cuda' if torch.cuda.is_available() else 'cpu')\n",
    "print('device: {}'.format(device))"
   ]
  },
  {
   "cell_type": "markdown",
   "metadata": {},
   "source": [
    "**Iris数据集**\n",
    "\n",
    "设置超参数、模型实例化、数据集类实例化"
   ]
  },
  {
   "cell_type": "code",
   "execution_count": 16,
   "metadata": {},
   "outputs": [
    {
     "name": "stdout",
     "output_type": "stream",
     "text": [
      "NeuralNetwork(\n",
      "  (fc): Sequential(\n",
      "    (0): Linear(in_features=4, out_features=10, bias=True)\n",
      "    (1): Sigmoid()\n",
      "    (2): Linear(in_features=10, out_features=10, bias=True)\n",
      "    (3): Sigmoid()\n",
      "    (4): Linear(in_features=10, out_features=3, bias=True)\n",
      "  )\n",
      "  (softmax): Softmax(dim=-1)\n",
      ")\n"
     ]
    }
   ],
   "source": [
    "root = './iris.csv'\n",
    "\n",
    "## 超参数\n",
    "layers = [4,10,10,3]\n",
    "activation = 'sigmoid'\n",
    "epoch = 100\n",
    "lr = 0.1\n",
    "momentum = 0\n",
    "batchsize = 90\n",
    "weight_decay = 0.1\n",
    "log = False\n",
    "## 模型初始化，定义数据集\n",
    "model = NeuralNetwork(layers=layers, activation=activation)\n",
    "model = model.to(device)\n",
    "model.apply(init_weight)\n",
    "iris_dataset = Iris(root=root, split_ratio=0.4)\n",
    "optimizer = optim.SGD(model.parameters(), lr=lr, momentum=momentum, weight_decay=weight_decay)\n",
    "\n",
    "print(model)"
   ]
  },
  {
   "cell_type": "markdown",
   "metadata": {},
   "source": [
    "训练模型"
   ]
  },
  {
   "cell_type": "code",
   "execution_count": 19,
   "metadata": {},
   "outputs": [],
   "source": [
    "model, loss, acc_train, acc_test = train_iris(model, iris_dataset, optimizer, device, epoch, batchsize, log=log)"
   ]
  },
  {
   "cell_type": "markdown",
   "metadata": {},
   "source": [
    "可视化损失函数及准确率"
   ]
  },
  {
   "cell_type": "code",
   "execution_count": 20,
   "metadata": {},
   "outputs": [
    {
     "name": "stdout",
     "output_type": "stream",
     "text": [
      "测试集准确率: 95.00 %\n"
     ]
    },
    {
     "data": {
      "image/png": "[encoded data removed]",
      "text/plain": [
       "<Figure size 432x288 with 1 Axes>"
      ]
     },
     "metadata": {
      "needs_background": "light"
     },
     "output_type": "display_data"
    }
   ],
   "source": [
    "print('测试集准确率: %.2f %%'%float(acc_test[-1]*100))\n",
    "\n",
    "iteration = np.arange(len(loss))\n",
    "plt.plot(iteration, loss, label='loss')\n",
    "plt.plot(iteration, acc_train, label='acc_train')\n",
    "plt.plot(iteration, acc_test, label='accy_test')\n",
    "plt.xlabel('epoch')\n",
    "plt.ylabel('loss/accuracy')\n",
    "plt.legend(loc='best')\n",
    "plt.show()"
   ]
  },
  {
   "cell_type": "markdown",
   "metadata": {},
   "source": [
    "**mnist手写数字数据集**\n",
    "\n",
    "超参数确定、数据集及模型初始化"
   ]
  },
  {
   "cell_type": "code",
   "execution_count": 21,
   "metadata": {},
   "outputs": [
    {
     "name": "stdout",
     "output_type": "stream",
     "text": [
      "LeNet(\n",
      "  (conv1): Conv2d(1, 6, kernel_size=(5, 5), stride=(1, 1), padding=(2, 2))\n",
      "  (conv2): Conv2d(6, 16, kernel_size=(5, 5), stride=(1, 1))\n",
      "  (avepool1): AvgPool2d(kernel_size=2, stride=2, padding=0)\n",
      "  (avepool2): AvgPool2d(kernel_size=2, stride=2, padding=0)\n",
      "  (fc1): Linear(in_features=400, out_features=120, bias=True)\n",
      "  (fc2): Linear(in_features=120, out_features=84, bias=True)\n",
      "  (fc3): Linear(in_features=84, out_features=10, bias=True)\n",
      "  (bn1): BatchNorm2d(6, eps=1e-05, momentum=0.1, affine=True, track_running_stats=True)\n",
      "  (bn2): BatchNorm2d(16, eps=1e-05, momentum=0.1, affine=True, track_running_stats=True)\n",
      "  (bn3): BatchNorm1d(120, eps=1e-05, momentum=0.1, affine=True, track_running_stats=True)\n",
      "  (bn4): BatchNorm1d(84, eps=1e-05, momentum=0.1, affine=True, track_running_stats=True)\n",
      ")\n"
     ]
    }
   ],
   "source": [
    "root = './MNIST'\n",
    "\n",
    "epoch = 10\n",
    "lr = 0.001\n",
    "momentum = 0\n",
    "batchsize = 256\n",
    "weight_decay = 0.1\n",
    "norm = True\n",
    "batchnorm = True\n",
    "\n",
    "model = LeNet()\n",
    "model = model.to(device)\n",
    "model.apply(init_weight)\n",
    "mnist_dataset = MNIST(root=root)\n",
    "#optimizer = optim.SGD(model.parameters(), lr=lr, momentum=momentum)\n",
    "optimizer = optim.Adam(model.parameters(), lr, weight_decay=weight_decay)\n",
    "\n",
    "print(model)"
   ]
  },
  {
   "cell_type": "markdown",
   "metadata": {},
   "source": [
    "开始训练"
   ]
  },
  {
   "cell_type": "code",
   "execution_count": 22,
   "metadata": {},
   "outputs": [
    {
     "name": "stderr",
     "output_type": "stream",
     "text": [
      "D:\\anaconda3\\lib\\site-packages\\torch\\nn\\functional.py:1625: UserWarning: nn.functional.sigmoid is deprecated. Use torch.sigmoid instead.\n",
      "  warnings.warn(\"nn.functional.sigmoid is deprecated. Use torch.sigmoid instead.\")\n"
     ]
    },
    {
     "name": "stdout",
     "output_type": "stream",
     "text": [
      "epoch: 1/10\t training loss 1.66\t training_acc 0.82\t val_acc 0.86\n",
      "epoch: 2/10\t training loss 1.56\t training_acc 0.90\t val_acc 0.94\n",
      "epoch: 3/10\t training loss 1.53\t training_acc 0.93\t val_acc 0.95\n",
      "epoch: 4/10\t training loss 1.52\t training_acc 0.94\t val_acc 0.94\n",
      "epoch: 5/10\t training loss 1.52\t training_acc 0.94\t val_acc 0.95\n",
      "epoch: 6/10\t training loss 1.52\t training_acc 0.94\t val_acc 0.96\n",
      "epoch: 7/10\t training loss 1.52\t training_acc 0.94\t val_acc 0.95\n",
      "epoch: 8/10\t training loss 1.52\t training_acc 0.94\t val_acc 0.94\n",
      "epoch: 9/10\t training loss 1.52\t training_acc 0.94\t val_acc 0.94\n",
      "epoch: 10/10\t training loss 1.52\t training_acc 0.94\t val_acc 0.94\n"
     ]
    }
   ],
   "source": [
    "model, loss, acc_train, acc_test = train_mnist(model, mnist_dataset, optimizer, device, epoch, batchsize, norm, batchnorm)"
   ]
  },
  {
   "cell_type": "markdown",
   "metadata": {},
   "source": [
    "可视化模型结果"
   ]
  },
  {
   "cell_type": "code",
   "execution_count": 23,
   "metadata": {},
   "outputs": [
    {
     "name": "stdout",
     "output_type": "stream",
     "text": [
      "测试集准确率: 93.85 %\n"
     ]
    },
    {
     "data": {
      "image/png": "[encoded data removed]",
      "text/plain": [
       "<Figure size 432x288 with 2 Axes>"
      ]
     },
     "metadata": {
      "needs_background": "light"
     },
     "output_type": "display_data"
    }
   ],
   "source": [
    "print('测试集准确率: %.2f %%'%float(acc_test[-1]*100))\n",
    "\n",
    "iteration = np.arange(len(loss))\n",
    "\n",
    "fig = plt.figure()\n",
    "ax1 = fig.add_subplot(111)\n",
    "ax1.plot(iteration, loss, label='loss')\n",
    "ax1.set_ylabel('loss')\n",
    "ax1.set_xlabel('epoch')\n",
    "\n",
    "ax2 = ax1.twinx()\n",
    "ax2.plot(iteration, acc_train, color='orange', label='acc_train')\n",
    "ax2.plot(iteration, acc_test, color='green', label='acc_test')\n",
    "ax2.set_ylabel('accuracy')\n",
    "\n",
    "labels = []\n",
    "lines = []\n",
    "for ax in fig.axes:\n",
    "    axLine, axLabel = ax.get_legend_handles_labels()\n",
    "    lines.extend(axLine)\n",
    "    labels.extend(axLabel)\n",
    "\n",
    "fig.legend(lines, labels, loc=[0.68,0.6])\n",
    "plt.show()"
   ]
  },
  {
   "cell_type": "markdown",
   "metadata": {},
   "source": [
    "可视化分类结果"
   ]
  },
  {
   "cell_type": "code",
   "execution_count": 24,
   "metadata": {},
   "outputs": [
    {
     "name": "stderr",
     "output_type": "stream",
     "text": [
      "D:\\anaconda3\\lib\\site-packages\\torch\\nn\\functional.py:1625: UserWarning: nn.functional.sigmoid is deprecated. Use torch.sigmoid instead.\n",
      "  warnings.warn(\"nn.functional.sigmoid is deprecated. Use torch.sigmoid instead.\")\n"
     ]
    },
    {
     "data": {
      "image/png": "[encoded data removed]",
      "text/plain": [
       "<Figure size 432x288 with 25 Axes>"
      ]
     },
     "metadata": {
      "needs_background": "light"
     },
     "output_type": "display_data"
    }
   ],
   "source": [
    "x_test = torch.Tensor(mnist_dataset.x_test[:25].reshape(25,1,28,28))\n",
    "y_test = torch.Tensor(mnist_dataset.y_test[:25])\n",
    "\n",
    "x_test = x_test.float().to(device)\n",
    "y_test = y_test.to(device)\n",
    "\n",
    "yhat = model(x_test, batch_norm=batchnorm)\n",
    "yhat = torch.argmax(yhat, dim=-1)\n",
    "\n",
    "x_test = x_test.cpu().numpy()\n",
    "yhat = yhat.cpu().numpy()\n",
    "\n",
    "for i in range(25):\n",
    "    plt.subplot(5, 5, i+1)\n",
    "    plt.title('%i / %i'%(yhat[i],y_test[i]))\n",
    "    plt.imshow(x_test[i,0],cmap='gray')\n",
    "    plt.axis('off')\n",
    "plt.tight_layout()\n",
    "plt.show()"
   ]
  }
 ],
 "metadata": {
  "interpreter": {
   "hash": "7b4b4feff2f24a0f0a34464dbe537a36fda679851528fb8735cb41fa49dffb2d"
  },
  "kernelspec": {
   "display_name": "Python 3.8.3 64-bit ('base': conda)",
   "name": "python3"
  },
  "language_info": {
   "codemirror_mode": {
    "name": "ipython",
    "version": 3
   },
   "file_extension": ".py",
   "mimetype": "text/x-python",
   "name": "python",
   "nbconvert_exporter": "python",
   "pygments_lexer": "ipython3",
   "version": "3.8.3"
  },
  "orig_nbformat": 4
 },
 "nbformat": 4,
 "nbformat_minor": 2
}
